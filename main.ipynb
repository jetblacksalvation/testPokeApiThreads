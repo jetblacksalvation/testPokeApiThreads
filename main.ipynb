{
 "cells": [
  {
   "cell_type": "code",
   "execution_count": 348,
   "metadata": {},
   "outputs": [],
   "source": [
    "import pandas\n",
    "import threading\n",
    "import requests\n",
    "import json \n",
    "import time\n",
    "Mutex = threading.Lock()"
   ]
  },
  {
   "cell_type": "code",
   "execution_count": 349,
   "metadata": {},
   "outputs": [],
   "source": [
    "def PokemonAPIEndPoint(*vargs, **kwargs)->dict:\n",
    "    thread = threading.current_thread()\n",
    "    curl = 'https://pokeapi.co/api/v2/pokemon?'\n",
    "    if vargs == ():\n",
    "        pass\n",
    "    else:\n",
    "        # curl += vargs\n",
    "        pass\n",
    "\n",
    "    if kwargs == {}:\n",
    "        pass\n",
    "    else:\n",
    "        curl = curl +  ''.join([f'&{x}={kwargs[x]}' for x in kwargs])\n",
    "    response = requests.get(curl)\n",
    "    json_content = json.loads(response.content)\n",
    "    df = pandas.DataFrame(json_content['results'])\n",
    "    apiCallCount = None\n",
    "    with Mutex:\n",
    "        try:\n",
    "            with open('countApiCalls.txt', 'r+') as file:\n",
    "                temp  = [line.replace('\\x00','') for line in file.readlines()][0]\n",
    "                # print(temp, 'is temp')\n",
    "                if temp == '':\n",
    "                    apiCallCount = 0\n",
    "                    file.truncate(0)\n",
    "                    file.write('0')\n",
    "                    file.close()\n",
    "                else:\n",
    "                    # file.truncate()\n",
    "                    apiCallCount = float(temp) + 1\n",
    "                    file.truncate(0)\n",
    "\n",
    "                    file.write(str(apiCallCount))\n",
    "                    file.close()\n",
    "                    pass\n",
    "                print(apiCallCount, 'is call count')\n",
    "                \n",
    "        except:\n",
    "            with open('countApiCalls.txt', 'w+') as file:\n",
    "                file.write('0')\n",
    "        time.sleep(1)\n",
    "    # print(df)\n",
    "    return dict(json.loads(response.content))\n",
    "    "
   ]
  },
  {
   "cell_type": "code",
   "execution_count": 350,
   "metadata": {},
   "outputs": [],
   "source": [
    "class ThreadedQuerry:\n",
    "    def __init__(self) -> None:\n",
    "        self.threads  = []\n",
    "    def JoinAllThreads(self) -> None:\n",
    "        for thread in self.threads:\n",
    "            if getattr(thread, \"shouldRun\", None) != None:\n",
    "                setattr(thread,\"shouldRun\", not thread.shouldRun)\n",
    "            thread.join()\n",
    "        for thread in self.threads:\n",
    "            del thread\n",
    "        self.threads = []\n",
    "    def LoadFrom(self,*vargs, **kwargs) -> None:\n",
    "        for x in vargs:\n",
    "            args  = kwargs\n",
    "            args['offset'] = x \n",
    "            thread = threading.Thread(target=PokemonAPIEndPoint, args = (), kwargs=args)\n",
    "            thread.shouldRun = False\n",
    "            thread.start()\n",
    "            self.threads.append(thread)\n",
    "        self.JoinAllThreads()"
   ]
  },
  {
   "cell_type": "code",
   "execution_count": 351,
   "metadata": {},
   "outputs": [],
   "source": [
    "QuerryWrapper = ThreadedQuerry()"
   ]
  },
  {
   "cell_type": "code",
   "execution_count": 352,
   "metadata": {},
   "outputs": [
    {
     "name": "stdout",
     "output_type": "stream",
     "text": [
      "10.0 is call count\n",
      "11.0 is call count\n",
      "12.0 is call count\n"
     ]
    }
   ],
   "source": [
    "QuerryWrapper.LoadFrom(0 , 200 , 400 , limit = 200)"
   ]
  },
  {
   "cell_type": "code",
   "execution_count": 353,
   "metadata": {},
   "outputs": [
    {
     "data": {
      "text/plain": [
       "[]"
      ]
     },
     "execution_count": 353,
     "metadata": {},
     "output_type": "execute_result"
    }
   ],
   "source": [
    "QuerryWrapper.threads\n"
   ]
  },
  {
   "cell_type": "code",
   "execution_count": null,
   "metadata": {},
   "outputs": [],
   "source": []
  }
 ],
 "metadata": {
  "kernelspec": {
   "display_name": "Python 3",
   "language": "python",
   "name": "python3"
  },
  "language_info": {
   "codemirror_mode": {
    "name": "ipython",
    "version": 3
   },
   "file_extension": ".py",
   "mimetype": "text/x-python",
   "name": "python",
   "nbconvert_exporter": "python",
   "pygments_lexer": "ipython3",
   "version": "3.11.0"
  },
  "orig_nbformat": 4
 },
 "nbformat": 4,
 "nbformat_minor": 2
}
